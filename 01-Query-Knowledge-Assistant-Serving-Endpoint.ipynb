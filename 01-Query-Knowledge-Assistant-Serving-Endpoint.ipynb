{
 "cells": [
  {
   "cell_type": "code",
   "execution_count": 0,
   "metadata": {
    "application/vnd.databricks.v1+cell": {
     "cellMetadata": {
      "byteLimit": 2048000,
      "rowLimit": 10000
     },
     "inputWidgets": {},
     "nuid": "a4b6fbe2-2587-474c-a2ac-f366db1bf3da",
     "showTitle": true,
     "tableResultSettingsMap": {},
     "title": "Install and Update OpenAI Library"
    }
   },
   "outputs": [],
   "source": [
    "%pip install -qqqq -U openai\n",
    "dbutils.library.restartPython()"
   ]
  },
  {
   "cell_type": "code",
   "execution_count": 0,
   "metadata": {
    "application/vnd.databricks.v1+cell": {
     "cellMetadata": {
      "byteLimit": 2048000,
      "rowLimit": 10000
     },
     "inputWidgets": {},
     "nuid": "7ce799da-ac93-4e57-9670-653502499b39",
     "showTitle": true,
     "tableResultSettingsMap": {},
     "title": "Retrieve Databricks API Token"
    }
   },
   "outputs": [],
   "source": [
    "myToken = dbutils.notebook.entry_point.getDbutils().notebook().getContext().apiToken().getOrElse(None)"
   ]
  },
  {
   "cell_type": "code",
   "execution_count": 0,
   "metadata": {
    "application/vnd.databricks.v1+cell": {
     "cellMetadata": {
      "byteLimit": 2048000,
      "rowLimit": 10000
     },
     "inputWidgets": {},
     "nuid": "9babd467-0568-47ca-9e6d-c9dc0e62609d",
     "showTitle": true,
     "tableResultSettingsMap": {},
     "title": "Query Knowledge Assistant Model with Databricks Token"
    }
   },
   "outputs": [],
   "source": [
    "from openai import OpenAI\n",
    "import os\n",
    "\n",
    "# How to get your Databricks token: https://docs.databricks.com/en/dev-tools/auth/pat.html\n",
    "DATABRICKS_TOKEN = myToken\n",
    "# Alternatively in a Databricks notebook you can use this:\n",
    "# DATABRICKS_TOKEN = dbutils.notebook.entry_point.getDbutils().notebook().getContext().apiToken().get()\n",
    "\n",
    "client = OpenAI(\n",
    "    api_key=DATABRICKS_TOKEN,\n",
    "    base_url=\"https://dbc-8d504ecc-d614.cloud.databricks.com//serving-endpoints\",\n",
    ")\n",
    "\n",
    "response = client.responses.create(\n",
    "    model=\"ka-972ba258-endpoint\",\n",
    "    input=[\n",
    "        {\n",
    "            \"role\": \"user\",\n",
    "            \"content\": \"What information is needed to add a line to my account?\",\n",
    "        }\n",
    "    ],\n",
    ")\n",
    "\n",
    "print(response.output[0].content[0].text)"
   ]
  },
  {
   "cell_type": "code",
   "execution_count": 0,
   "metadata": {
    "application/vnd.databricks.v1+cell": {
     "cellMetadata": {
      "byteLimit": 2048000,
      "rowLimit": 10000
     },
     "inputWidgets": {},
     "nuid": "35972106-1b64-462e-9d9c-b963c38570c8",
     "showTitle": true,
     "tableResultSettingsMap": {},
     "title": "Extract Role from Response Output"
    }
   },
   "outputs": [],
   "source": [
    "response.output[0].role"
   ]
  }
 ],
 "metadata": {
  "application/vnd.databricks.v1+notebook": {
   "computePreferences": {
    "hardware": {
     "accelerator": null,
     "gpuPoolId": null,
     "memory": null
    }
   },
   "dashboards": [],
   "environmentMetadata": {
    "base_environment": "",
    "environment_version": "3"
   },
   "inputWidgetPreferences": null,
   "language": "python",
   "notebookMetadata": {
    "pythonIndentUnit": 4
   },
   "notebookName": "01-Query-Knowledge-Assistant-Serving-Endpoint",
   "widgets": {}
  },
  "language_info": {
   "name": "python"
  }
 },
 "nbformat": 4,
 "nbformat_minor": 0
}
