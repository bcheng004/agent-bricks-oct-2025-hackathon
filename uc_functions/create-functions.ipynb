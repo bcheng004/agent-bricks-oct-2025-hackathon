{
 "cells": [
  {
   "cell_type": "markdown",
   "metadata": {
    "application/vnd.databricks.v1+cell": {
     "cellMetadata": {},
     "inputWidgets": {},
     "nuid": "aae1e2ff-6117-4e1b-998a-2a66eca0bf6d",
     "showTitle": false,
     "tableResultSettingsMap": {},
     "title": ""
    }
   },
   "source": [
    "# Tool usage in LLMs\n",
    "\n",
    "LLMs can leverage tools in many ways such as\n",
    "\n",
    "- Functions within LLM frameworks (Langchain, LangGraphDSPy)\n",
    "- Functions registered with Unity Catalog (sql, python)\n",
    "- Tools with external tools (REST APIs, etc)\n",
    "- Databricks managed MCP Servers \n",
    "- External MCP Servers (can be hosted within Databricks)\n"
   ]
  },
  {
   "cell_type": "code",
   "execution_count": 0,
   "metadata": {
    "application/vnd.databricks.v1+cell": {
     "cellMetadata": {
      "byteLimit": 2048000,
      "rowLimit": 10000
     },
     "inputWidgets": {},
     "nuid": "05db1589-148d-4d26-b7dd-80f98bed8a8b",
     "showTitle": false,
     "tableResultSettingsMap": {},
     "title": ""
    }
   },
   "outputs": [
    {
     "output_type": "stream",
     "name": "stdout",
     "output_type": "stream",
     "text": [
      "Requirement already satisfied: databricks-sdk==0.41.0 in /local_disk0/.ephemeral_nfs/envs/pythonEnv-22fd6d21-6ae5-4de9-8f5e-422f3ca9ba39/lib/python3.11/site-packages (0.41.0)\nRequirement already satisfied: google-auth~=2.0 in /databricks/python3/lib/python3.11/site-packages (from databricks-sdk==0.41.0) (2.35.0)\nRequirement already satisfied: requests<3,>=2.28.1 in /databricks/python3/lib/python3.11/site-packages (from databricks-sdk==0.41.0) (2.31.0)\nRequirement already satisfied: cachetools<6.0,>=2.0.0 in /databricks/python3/lib/python3.11/site-packages (from google-auth~=2.0->databricks-sdk==0.41.0) (5.5.0)\nRequirement already satisfied: pyasn1-modules>=0.2.1 in /databricks/python3/lib/python3.11/site-packages (from google-auth~=2.0->databricks-sdk==0.41.0) (0.2.8)\nRequirement already satisfied: rsa<5,>=3.1.4 in /databricks/python3/lib/python3.11/site-packages (from google-auth~=2.0->databricks-sdk==0.41.0) (4.9)\nRequirement already satisfied: charset-normalizer<4,>=2 in /databricks/python3/lib/python3.11/site-packages (from requests<3,>=2.28.1->databricks-sdk==0.41.0) (2.0.4)\nRequirement already satisfied: idna<4,>=2.5 in /databricks/python3/lib/python3.11/site-packages (from requests<3,>=2.28.1->databricks-sdk==0.41.0) (3.4)\nRequirement already satisfied: urllib3<3,>=1.21.1 in /databricks/python3/lib/python3.11/site-packages (from requests<3,>=2.28.1->databricks-sdk==0.41.0) (1.26.16)\nRequirement already satisfied: certifi>=2017.4.17 in /databricks/python3/lib/python3.11/site-packages (from requests<3,>=2.28.1->databricks-sdk==0.41.0) (2023.7.22)\nRequirement already satisfied: pyasn1<0.5.0,>=0.4.6 in /databricks/python3/lib/python3.11/site-packages (from pyasn1-modules>=0.2.1->google-auth~=2.0->databricks-sdk==0.41.0) (0.4.8)\n\u001B[43mNote: you may need to restart the kernel using %restart_python or dbutils.library.restartPython() to use updated packages.\u001B[0m\n"
     ]
    }
   ],
   "source": [
    "%pip install databricks-sdk==0.41.0 \n",
    "dbutils.library.restartPython()"
   ]
  },
  {
   "cell_type": "code",
   "execution_count": 0,
   "metadata": {
    "application/vnd.databricks.v1+cell": {
     "cellMetadata": {
      "byteLimit": 2048000,
      "rowLimit": 10000
     },
     "inputWidgets": {},
     "nuid": "e14ee7b5-572d-4000-8e8c-98e92e38f91c",
     "showTitle": false,
     "tableResultSettingsMap": {},
     "title": ""
    },
    "jupyter": {
     "outputs_hidden": true
    }
   },
   "outputs": [
    {
     "output_type": "execute_result",
     "data": {
      "text/plain": [
       "DataFrame[]"
      ]
     },
     "execution_count": 10,
     "metadata": {},
     "output_type": "execute_result"
    }
   ],
   "source": [
    "# %run ./_resources/00-init-stylist $reset_all=false\n",
    "catalog = \"users\"\n",
    "dbName = db = \"rob_bajra\"\n",
    "volume_name = \"dbdemos_agent_volume\"\n",
    "\n",
    "spark.sql(f\"USE `{catalog}`.`{db}`\")"
   ]
  },
  {
   "cell_type": "markdown",
   "metadata": {
    "application/vnd.databricks.v1+cell": {
     "cellMetadata": {
      "byteLimit": 2048000,
      "rowLimit": 10000
     },
     "inputWidgets": {},
     "nuid": "70095b6f-1501-411e-ba95-6192489c7b50",
     "showTitle": false,
     "tableResultSettingsMap": {},
     "title": ""
    }
   },
   "source": [
    "## Example 1: Unity Catalog sql function\n"
   ]
  },
  {
   "cell_type": "code",
   "execution_count": 0,
   "metadata": {
    "application/vnd.databricks.v1+cell": {
     "cellMetadata": {
      "byteLimit": 2048000,
      "implicitDf": true,
      "rowLimit": 10000
     },
     "inputWidgets": {},
     "nuid": "e1336b5d-8502-4364-9abe-7c7ef4fa2a89",
     "showTitle": false,
     "tableResultSettingsMap": {},
     "title": ""
    }
   },
   "outputs": [
    {
     "output_type": "display_data",
     "data": {
      "text/html": [
       "<style scoped>\n",
       "  .table-result-container {\n",
       "    max-height: 300px;\n",
       "    overflow: auto;\n",
       "  }\n",
       "  table, th, td {\n",
       "    border: 1px solid black;\n",
       "    border-collapse: collapse;\n",
       "  }\n",
       "  th, td {\n",
       "    padding: 5px;\n",
       "  }\n",
       "  th {\n",
       "    text-align: left;\n",
       "  }\n",
       "</style><div class='table-result-container'><table class='table-result'><thead style='background-color: white'><tr><th>10_inches_in_cm</th></tr></thead><tbody><tr><td>25.4</td></tr></tbody></table></div>"
      ]
     },
     "metadata": {
      "application/vnd.databricks.v1+output": {
       "addedWidgets": {},
       "aggData": [],
       "aggError": "",
       "aggOverflow": false,
       "aggSchema": [],
       "aggSeriesLimitReached": false,
       "aggType": "",
       "arguments": {},
       "columnCustomDisplayInfos": {},
       "data": [
        [
         25.4
        ]
       ],
       "datasetInfos": [
        {
         "name": "_sqldf",
         "schema": {
          "fields": [
           {
            "metadata": {},
            "name": "10_inches_in_cm",
            "nullable": false,
            "type": "float"
           }
          ],
          "type": "struct"
         },
         "tableIdentifier": null,
         "typeStr": "pyspark.sql.connect.dataframe.DataFrame"
        }
       ],
       "dbfsResultPath": null,
       "isJsonSchema": true,
       "metadata": {
        "createTempViewForImplicitDf": true,
        "dataframeName": "_sqldf",
        "executionCount": 11
       },
       "overflow": false,
       "plotOptions": {
        "customPlotOptions": {},
        "displayType": "table",
        "pivotAggregation": null,
        "pivotColumns": null,
        "xColumns": null,
        "yColumns": null
       },
       "removedWidgets": [],
       "schema": [
        {
         "metadata": "{}",
         "name": "10_inches_in_cm",
         "type": "\"float\""
        }
       ],
       "type": "table"
      }
     },
     "output_type": "display_data"
    }
   ],
   "source": [
    "%sql\n",
    "CREATE OR REPLACE FUNCTION convert_inch_to_cm(size_in_inch FLOAT)\n",
    "RETURNS FLOAT\n",
    "LANGUAGE SQL\n",
    "COMMENT 'convert size from inch to cm'\n",
    "RETURN size_in_inch * 2.54;\n",
    "\n",
    "-- let's test our function:\n",
    "SELECT convert_inch_to_cm(10) as 10_inches_in_cm;"
   ]
  },
  {
   "cell_type": "markdown",
   "metadata": {
    "application/vnd.databricks.v1+cell": {
     "cellMetadata": {
      "byteLimit": 2048000,
      "rowLimit": 10000
     },
     "inputWidgets": {},
     "nuid": "37922a8d-1b90-4d55-b660-380e85a796f4",
     "showTitle": false,
     "tableResultSettingsMap": {},
     "title": ""
    }
   },
   "source": [
    "## Example 2: Unity Catalog python function"
   ]
  },
  {
   "cell_type": "code",
   "execution_count": 0,
   "metadata": {
    "application/vnd.databricks.v1+cell": {
     "cellMetadata": {
      "byteLimit": 2048000,
      "implicitDf": true,
      "rowLimit": 10000
     },
     "inputWidgets": {},
     "nuid": "ca597862-920d-438b-912b-aa077ee930b1",
     "showTitle": false,
     "tableResultSettingsMap": {},
     "title": ""
    }
   },
   "outputs": [
    {
     "output_type": "display_data",
     "data": {
      "text/html": [
       "<style scoped>\n",
       "  .table-result-container {\n",
       "    max-height: 300px;\n",
       "    overflow: auto;\n",
       "  }\n",
       "  table, th, td {\n",
       "    border: 1px solid black;\n",
       "    border-collapse: collapse;\n",
       "  }\n",
       "  th, td {\n",
       "    padding: 5px;\n",
       "  }\n",
       "  th {\n",
       "    text-align: left;\n",
       "  }\n",
       "</style><div class='table-result-container'><table class='table-result'><thead style='background-color: white'><tr><th>user_id</th><th>id</th><th>transaction_date</th><th>item_count</th><th>amount</th><th>order_status</th></tr></thead><tbody><tr><td>d8ca793f-7f06-42d3-be1b-929e32fc8bc9</td><td>0210d1a8-3aaf-4e83-ac0a-08421af55ed6</td><td>07-03-2025 07:24:13</td><td>2.0</td><td>28.0</td><td>Delivered</td></tr><tr><td>d8ca793f-7f06-42d3-be1b-929e32fc8bc9</td><td>9053b7de-8096-4792-bc1d-a198fe92d053</td><td>07-02-2025 04:00:22</td><td>3.0</td><td>57.0</td><td>Shipped</td></tr><tr><td>d8ca793f-7f06-42d3-be1b-929e32fc8bc9</td><td>edd52560-e33e-41ab-ae5d-f31d7c87c088</td><td>07-01-2025 09:54:04</td><td>1.0</td><td>13.0</td><td>Pending</td></tr><tr><td>d8ca793f-7f06-42d3-be1b-929e32fc8bc9</td><td>79df1018-571d-4442-85cb-e73ea951ee5e</td><td>07-01-2025 01:19:17</td><td>2.0</td><td>66.0</td><td>Pending</td></tr></tbody></table></div>"
      ]
     },
     "metadata": {
      "application/vnd.databricks.v1+output": {
       "addedWidgets": {},
       "aggData": [],
       "aggError": "",
       "aggOverflow": false,
       "aggSchema": [],
       "aggSeriesLimitReached": false,
       "aggType": "",
       "arguments": {},
       "columnCustomDisplayInfos": {},
       "data": [
        [
         "d8ca793f-7f06-42d3-be1b-929e32fc8bc9",
         "0210d1a8-3aaf-4e83-ac0a-08421af55ed6",
         "07-03-2025 07:24:13",
         2.0,
         28.0,
         "Delivered"
        ],
        [
         "d8ca793f-7f06-42d3-be1b-929e32fc8bc9",
         "9053b7de-8096-4792-bc1d-a198fe92d053",
         "07-02-2025 04:00:22",
         3.0,
         57.0,
         "Shipped"
        ],
        [
         "d8ca793f-7f06-42d3-be1b-929e32fc8bc9",
         "edd52560-e33e-41ab-ae5d-f31d7c87c088",
         "07-01-2025 09:54:04",
         1.0,
         13.0,
         "Pending"
        ],
        [
         "d8ca793f-7f06-42d3-be1b-929e32fc8bc9",
         "79df1018-571d-4442-85cb-e73ea951ee5e",
         "07-01-2025 01:19:17",
         2.0,
         66.0,
         "Pending"
        ]
       ],
       "datasetInfos": [
        {
         "name": "_sqldf",
         "schema": {
          "fields": [
           {
            "metadata": {},
            "name": "user_id",
            "nullable": true,
            "type": "string"
           },
           {
            "metadata": {},
            "name": "id",
            "nullable": true,
            "type": "string"
           },
           {
            "metadata": {},
            "name": "transaction_date",
            "nullable": true,
            "type": "string"
           },
           {
            "metadata": {},
            "name": "item_count",
            "nullable": true,
            "type": "double"
           },
           {
            "metadata": {},
            "name": "amount",
            "nullable": true,
            "type": "double"
           },
           {
            "metadata": {},
            "name": "order_status",
            "nullable": true,
            "type": "string"
           }
          ],
          "type": "struct"
         },
         "tableIdentifier": null,
         "typeStr": "pyspark.sql.connect.dataframe.DataFrame"
        }
       ],
       "dbfsResultPath": null,
       "isJsonSchema": true,
       "metadata": {
        "createTempViewForImplicitDf": true,
        "dataframeName": "_sqldf",
        "executionCount": 12
       },
       "overflow": false,
       "plotOptions": {
        "customPlotOptions": {},
        "displayType": "table",
        "pivotAggregation": null,
        "pivotColumns": null,
        "xColumns": null,
        "yColumns": null
       },
       "removedWidgets": [],
       "schema": [
        {
         "metadata": "{}",
         "name": "user_id",
         "type": "\"string\""
        },
        {
         "metadata": "{}",
         "name": "id",
         "type": "\"string\""
        },
        {
         "metadata": "{}",
         "name": "transaction_date",
         "type": "\"string\""
        },
        {
         "metadata": "{}",
         "name": "item_count",
         "type": "\"double\""
        },
        {
         "metadata": "{}",
         "name": "amount",
         "type": "\"double\""
        },
        {
         "metadata": "{}",
         "name": "order_status",
         "type": "\"string\""
        }
       ],
       "type": "table"
      }
     },
     "output_type": "display_data"
    }
   ],
   "source": [
    "# %sql\n",
    "# CREATE OR REPLACE FUNCTION get_customer_orders ()\n",
    "# RETURNS TABLE(user_id STRING,\n",
    "#   id STRING,\n",
    "#   transaction_date STRING,\n",
    "#   item_count DOUBLE,\n",
    "#   amount DOUBLE,\n",
    "#   order_status STRING)\n",
    "# COMMENT 'Returns a list of customer orders for the given customer ID (expect a UUID)'\n",
    "# LANGUAGE SQL\n",
    "#     RETURN\n",
    "#     SELECT o.* from tools_orders o \n",
    "#     inner join tools_customers c on c.id = o.user_id \n",
    "#     where email=current_user() ORDER BY transaction_date desc;\n",
    "\n",
    "# SELECT * FROM get_customer_orders();"
   ]
  },
  {
   "cell_type": "markdown",
   "metadata": {
    "application/vnd.databricks.v1+cell": {
     "cellMetadata": {
      "byteLimit": 2048000,
      "rowLimit": 10000
     },
     "inputWidgets": {},
     "nuid": "4869ce03-b92a-4f91-bbe0-ee4d7c97c28a",
     "showTitle": false,
     "tableResultSettingsMap": {},
     "title": ""
    }
   },
   "source": [
    "## Example 3: Unity Catalog external API function\n"
   ]
  },
  {
   "cell_type": "code",
   "execution_count": 0,
   "metadata": {
    "application/vnd.databricks.v1+cell": {
     "cellMetadata": {
      "byteLimit": 2048000,
      "implicitDf": true,
      "rowLimit": 10000
     },
     "inputWidgets": {},
     "nuid": "49bb635a-44b1-4d2c-a25c-a429b65d8218",
     "showTitle": false,
     "tableResultSettingsMap": {},
     "title": ""
    }
   },
   "outputs": [
    {
     "output_type": "display_data",
     "data": {
      "text/html": [
       "<style scoped>\n",
       "  .table-result-container {\n",
       "    max-height: 300px;\n",
       "    overflow: auto;\n",
       "  }\n",
       "  table, th, td {\n",
       "    border: 1px solid black;\n",
       "    border-collapse: collapse;\n",
       "  }\n",
       "  th, td {\n",
       "    padding: 5px;\n",
       "  }\n",
       "  th {\n",
       "    text-align: left;\n",
       "  }\n",
       "</style><div class='table-result-container'><table class='table-result'><thead style='background-color: white'><tr><th>dets</th></tr></thead><tbody><tr><td>List([{\"name\": {\"common\": \"United States\", \"official\": \"United States of America\", \"nativeName\": {\"eng\": {\"official\": \"United States of America\", \"common\": \"United States\"}}}, \"tld\": [\".us\"], \"cca2\": \"US\", \"ccn3\": \"840\", \"cioc\": \"USA\", \"independent\": true, \"status\": \"officially-assigned\", \"unMember\": true, \"currencies\": {\"USD\": {\"symbol\": \"$\", \"name\": \"United States dollar\"}}, \"idd\": {\"root\": \"+1\", \"suffixes\": [\"201\", \"202\", \"203\", \"205\", \"206\", \"207\", \"208\", \"209\", \"210\", \"212\", \"213\", \"214\", \"215\", \"216\", \"217\", \"218\", \"219\", \"220\", \"224\", \"225\", \"227\", \"228\", \"229\", \"231\", \"234\", \"239\", \"240\", \"248\", \"251\", \"252\", \"253\", \"254\", \"256\", \"260\", \"262\", \"267\", \"269\", \"270\", \"272\", \"274\", \"276\", \"281\", \"283\", \"301\", \"302\", \"303\", \"304\", \"305\", \"307\", \"308\", \"309\", \"310\", \"312\", \"313\", \"314\", \"315\", \"316\", \"317\", \"318\", \"319\", \"320\", \"321\", \"323\", \"325\", \"327\", \"330\", \"331\", \"334\", \"336\", \"337\", \"339\", \"346\", \"347\", \"351\", \"352\", \"360\", \"361\", \"364\", \"380\", \"385\", \"386\", \"401\", \"402\", \"404\", \"405\", \"406\", \"407\", \"408\", \"409\", \"410\", \"412\", \"413\", \"414\", \"415\", \"417\", \"419\", \"423\", \"424\", \"425\", \"430\", \"432\", \"434\", \"435\", \"440\", \"442\", \"443\", \"447\", \"458\", \"463\", \"464\", \"469\", \"470\", \"475\", \"478\", \"479\", \"480\", \"484\", \"501\", \"502\", \"503\", \"504\", \"505\", \"507\", \"508\", \"509\", \"510\", \"512\", \"513\", \"515\", \"516\", \"517\", \"518\", \"520\", \"530\", \"531\", \"534\", \"539\", \"540\", \"541\", \"551\", \"559\", \"561\", \"562\", \"563\", \"564\", \"567\", \"570\", \"571\", \"573\", \"574\", \"575\", \"580\", \"585\", \"586\", \"601\", \"602\", \"603\", \"605\", \"606\", \"607\", \"608\", \"609\", \"610\", \"612\", \"614\", \"615\", \"616\", \"617\", \"618\", \"619\", \"620\", \"623\", \"626\", \"628\", \"629\", \"630\", \"631\", \"636\", \"641\", \"646\", \"650\", \"651\", \"657\", \"660\", \"661\", \"662\", \"667\", \"669\", \"678\", \"681\", \"682\", \"701\", \"702\", \"703\", \"704\", \"706\", \"707\", \"708\", \"712\", \"713\", \"714\", \"715\", \"716\", \"717\", \"718\", \"719\", \"720\", \"724\", \"725\", \"727\", \"730\", \"731\", \"732\", \"734\", \"737\", \"740\", \"743\", \"747\", \"754\", \"757\", \"760\", \"762\", \"763\", \"765\", \"769\", \"770\", \"772\", \"773\", \"774\", \"775\", \"779\", \"781\", \"785\", \"786\", \"801\", \"802\", \"803\", \"804\", \"805\", \"806\", \"808\", \"810\", \"812\", \"813\", \"814\", \"815\", \"816\", \"817\", \"818\", \"828\", \"830\", \"831\", \"832\", \"843\", \"845\", \"847\", \"848\", \"850\", \"854\", \"856\", \"857\", \"858\", \"859\", \"860\", \"862\", \"863\", \"864\", \"865\", \"870\", \"872\", \"878\", \"901\", \"903\", \"904\", \"906\", \"907\", \"908\", \"909\", \"910\", \"912\", \"913\", \"914\", \"915\", \"916\", \"917\", \"918\", \"919\", \"920\", \"925\", \"928\", \"929\", \"930\", \"931\", \"934\", \"936\", \"937\", \"938\", \"940\", \"941\", \"947\", \"949\", \"951\", \"952\", \"954\", \"956\", \"959\", \"970\", \"971\", \"972\", \"973\", \"975\", \"978\", \"979\", \"980\", \"984\", \"985\", \"989\"]}, \"capital\": [\"Washington, D.C.\"], \"altSpellings\": [\"US\", \"USA\", \"United States of America\"], \"region\": \"Americas\", \"subregion\": \"North America\", \"languages\": {\"eng\": \"English\"}, \"latlng\": [38.0, -97.0], \"landlocked\": false, \"borders\": [\"CAN\", \"MEX\"], \"area\": 9372610.0, \"demonyms\": {\"eng\": {\"f\": \"American\", \"m\": \"American\"}, \"fra\": {\"f\": \"Am\\u00e9ricaine\", \"m\": \"Am\\u00e9ricain\"}}, \"cca3\": \"USA\", \"translations\": {\"ara\": {\"official\": \"\\u0627\\u0644\\u0648\\u0644\\u0627\\u064a\\u0627\\u062a \\u0627\\u0644\\u0645\\u062a\\u062d\\u062f\\u0629 \\u0627\\u0644\\u0627\\u0645\\u0631\\u064a\\u0643\\u064a\\u0629\", \"common\": \"\\u0627\\u0644\\u0648\\u0644\\u0627\\u064a\\u0627\\u062a \\u0627\\u0644\\u0645\\u062a\\u062d\\u062f\\u0629\"}, \"bre\": {\"official\": \"Stado\\u00f9-Unanet Amerika\", \"common\": \"Stado\\u00f9-Unanet\"}, \"ces\": {\"official\": \"Spojen\\u00e9 st\\u00e1ty americk\\u00e9\", \"common\": \"Spojen\\u00e9 st\\u00e1ty\"}, \"cym\": {\"official\": \"United States of America\", \"common\": \"United States\"}, \"deu\": {\"official\": \"Vereinigte Staaten von Amerika\", \"common\": \"Vereinigte Staaten\"}, \"est\": {\"official\": \"Ameerika \\u00dchendriigid\", \"common\": \"Ameerika \\u00dchendriigid\"}, \"fin\": {\"official\": \"Amerikan yhdysvallat\", \"common\": \"Yhdysvallat\"}, \"fra\": {\"official\": \"Les \\u00e9tats-unis d'Am\\u00e9rique\", \"common\": \"\\u00c9tats-Unis\"}, \"hrv\": {\"official\": \"Sjedinjene Dr\\u017eave Amerike\", \"common\": \"Sjedinjene Ameri\\u010dke Dr\\u017eave\"}, \"hun\": {\"official\": \"Amerikai Egyes\\u00fclt \\u00c1llamok\", \"common\": \"Amerikai Egyes\\u00fclt \\u00c1llamok\"}, \"ind\": {\"official\": \"Amerika Serikat\", \"common\": \"Amerika\"}, \"ita\": {\"official\": \"Stati Uniti d'America\", \"common\": \"Stati Uniti d'America\"}, \"jpn\": {\"official\": \"\\u30a2\\u30e1\\u30ea\\u30ab\\u5408\\u8846\\u56fd\", \"common\": \"\\u30a2\\u30e1\\u30ea\\u30ab\\u5408\\u8846\\u56fd\"}, \"kor\": {\"official\": \"\\uc544\\uba54\\ub9ac\\uce74 \\ud569\\uc911\\uad6d\", \"common\": \"\\ubbf8\\uad6d\"}, \"nld\": {\"official\": \"Verenigde Staten van Amerika\", \"common\": \"Verenigde Staten\"}, \"per\": {\"official\": \"\\u0627\\u06cc\\u0627\\u0644\\u0627\\u062a \\u0645\\u062a\\u062d\\u062f\\u0647 \\u0622\\u0645\\u0631\\u06cc\\u06a9\\u0627\", \"common\": \"\\u0627\\u06cc\\u0627\\u0644\\u0627\\u062a \\u0645\\u062a\\u062d\\u062f\\u0647 \\u0622\\u0645\\u0631\\u06cc\\u06a9\\u0627\"}, \"pol\": {\"official\": \"Stany Zjednoczone Ameryki\", \"common\": \"Stany Zjednoczone\"}, \"por\": {\"official\": \"Estados Unidos da Am\\u00e9rica\", \"common\": \"Estados Unidos\"}, \"rus\": {\"official\": \"\\u0421\\u043e\\u0435\\u0434\\u0438\\u043d\\u0435\\u043d\\u043d\\u044b\\u0435 \\u0428\\u0442\\u0430\\u0442\\u044b \\u0410\\u043c\\u0435\\u0440\\u0438\\u043a\\u0438\", \"common\": \"\\u0421\\u043e\\u0435\\u0434\\u0438\\u043d\\u0451\\u043d\\u043d\\u044b\\u0435 \\u0428\\u0442\\u0430\\u0442\\u044b \\u0410\\u043c\\u0435\\u0440\\u0438\\u043a\\u0438\"}, \"slk\": {\"official\": \"Spojen\\u00e9 \\u0161t\\u00e1ty Americk\\u00e9\", \"common\": \"Spojen\\u00e9 \\u0161t\\u00e1ty americk\\u00e9\"}, \"spa\": {\"official\": \"Estados Unidos de Am\\u00e9rica\", \"common\": \"Estados Unidos\"}, \"srp\": {\"official\": \"\\u0421\\u0458\\u0435\\u0434\\u0438\\u045a\\u0435\\u043d\\u0435 \\u0410\\u043c\\u0435\\u0440\\u0438\\u0447\\u043a\\u0435 \\u0414\\u0440\\u0436\\u0430\\u0432\\u0435\", \"common\": \"\\u0421\\u0458\\u0435\\u0434\\u0438\\u045a\\u0435\\u043d\\u0435 \\u0410\\u043c\\u0435\\u0440\\u0438\\u0447\\u043a\\u0435 \\u0414\\u0440\\u0436\\u0430\\u0432\\u0435\"}, \"swe\": {\"official\": \"Amerikas f\\u00f6renta stater\", \"common\": \"USA\"}, \"tur\": {\"official\": \"Amerika Birle\\u015fik Devletleri\", \"common\": \"Amerika Birle\\u015fik Devletleri\"}, \"urd\": {\"official\": \"\\u0631\\u06cc\\u0627\\u0633\\u062a\\u06c1\\u0627\\u0626\\u06d2 \\u0645\\u062a\\u062d\\u062f\\u06c1 \\u0627\\u0645\\u0631\\u06cc\\u06a9\\u0627\", \"common\": \"\\u0631\\u06cc\\u0627\\u0633\\u062a\\u06c1\\u0627\\u0626\\u06d2 \\u0645\\u062a\\u062d\\u062f\\u06c1\"}, \"zho\": {\"official\": \"\\u7f8e\\u5229\\u575a\\u5408\\u4f17\\u56fd\", \"common\": \"\\u7f8e\\u56fd\"}}, \"flag\": \"\\ud83c\\uddfa\\ud83c\\uddf8\", \"maps\": {\"googleMaps\": \"https://goo.gl/maps/e8M246zY4BSjkjAv6\", \"openStreetMaps\": \"https://www.openstreetmap.org/relation/148838#map=2/20.6/-85.8\"}, \"population\": 329484123, \"gini\": {\"2018\": 41.4}, \"fifa\": \"USA\", \"car\": {\"signs\": [\"USA\"], \"side\": \"right\"}, \"timezones\": [\"UTC-12:00\", \"UTC-11:00\", \"UTC-10:00\", \"UTC-09:00\", \"UTC-08:00\", \"UTC-07:00\", \"UTC-06:00\", \"UTC-05:00\", \"UTC-04:00\", \"UTC+10:00\", \"UTC+12:00\"], \"continents\": [\"North America\"], \"flags\": {\"png\": \"https://flagcdn.com/w320/us.png\", \"svg\": \"https://flagcdn.com/us.svg\", \"alt\": \"The flag of the United States of America is composed of thirteen equal horizontal bands of red alternating with white. A blue rectangle, bearing fifty small five-pointed white stars arranged in nine rows where rows of six stars alternate with rows of five stars, is superimposed in the canton.\"}, \"coatOfArms\": {\"png\": \"https://mainfacts.com/media/images/coats_of_arms/us.png\", \"svg\": \"https://mainfacts.com/media/images/coats_of_arms/us.svg\"}, \"startOfWeek\": \"sunday\", \"capitalInfo\": {\"latlng\": [38.89, -77.05]}, \"postalCode\": {\"format\": \"#####-####\", \"regex\": \"^\\\\d{5}(-\\\\d{4})?$\"}}])</td></tr></tbody></table></div>"
      ]
     },
     "metadata": {
      "application/vnd.databricks.v1+output": {
       "addedWidgets": {},
       "aggData": [],
       "aggError": "",
       "aggOverflow": false,
       "aggSchema": [],
       "aggSeriesLimitReached": false,
       "aggType": "",
       "arguments": {},
       "columnCustomDisplayInfos": {},
       "data": [
        [
         [
          "[{\"name\": {\"common\": \"United States\", \"official\": \"United States of America\", \"nativeName\": {\"eng\": {\"official\": \"United States of America\", \"common\": \"United States\"}}}, \"tld\": [\".us\"], \"cca2\": \"US\", \"ccn3\": \"840\", \"cioc\": \"USA\", \"independent\": true, \"status\": \"officially-assigned\", \"unMember\": true, \"currencies\": {\"USD\": {\"symbol\": \"$\", \"name\": \"United States dollar\"}}, \"idd\": {\"root\": \"+1\", \"suffixes\": [\"201\", \"202\", \"203\", \"205\", \"206\", \"207\", \"208\", \"209\", \"210\", \"212\", \"213\", \"214\", \"215\", \"216\", \"217\", \"218\", \"219\", \"220\", \"224\", \"225\", \"227\", \"228\", \"229\", \"231\", \"234\", \"239\", \"240\", \"248\", \"251\", \"252\", \"253\", \"254\", \"256\", \"260\", \"262\", \"267\", \"269\", \"270\", \"272\", \"274\", \"276\", \"281\", \"283\", \"301\", \"302\", \"303\", \"304\", \"305\", \"307\", \"308\", \"309\", \"310\", \"312\", \"313\", \"314\", \"315\", \"316\", \"317\", \"318\", \"319\", \"320\", \"321\", \"323\", \"325\", \"327\", \"330\", \"331\", \"334\", \"336\", \"337\", \"339\", \"346\", \"347\", \"351\", \"352\", \"360\", \"361\", \"364\", \"380\", \"385\", \"386\", \"401\", \"402\", \"404\", \"405\", \"406\", \"407\", \"408\", \"409\", \"410\", \"412\", \"413\", \"414\", \"415\", \"417\", \"419\", \"423\", \"424\", \"425\", \"430\", \"432\", \"434\", \"435\", \"440\", \"442\", \"443\", \"447\", \"458\", \"463\", \"464\", \"469\", \"470\", \"475\", \"478\", \"479\", \"480\", \"484\", \"501\", \"502\", \"503\", \"504\", \"505\", \"507\", \"508\", \"509\", \"510\", \"512\", \"513\", \"515\", \"516\", \"517\", \"518\", \"520\", \"530\", \"531\", \"534\", \"539\", \"540\", \"541\", \"551\", \"559\", \"561\", \"562\", \"563\", \"564\", \"567\", \"570\", \"571\", \"573\", \"574\", \"575\", \"580\", \"585\", \"586\", \"601\", \"602\", \"603\", \"605\", \"606\", \"607\", \"608\", \"609\", \"610\", \"612\", \"614\", \"615\", \"616\", \"617\", \"618\", \"619\", \"620\", \"623\", \"626\", \"628\", \"629\", \"630\", \"631\", \"636\", \"641\", \"646\", \"650\", \"651\", \"657\", \"660\", \"661\", \"662\", \"667\", \"669\", \"678\", \"681\", \"682\", \"701\", \"702\", \"703\", \"704\", \"706\", \"707\", \"708\", \"712\", \"713\", \"714\", \"715\", \"716\", \"717\", \"718\", \"719\", \"720\", \"724\", \"725\", \"727\", \"730\", \"731\", \"732\", \"734\", \"737\", \"740\", \"743\", \"747\", \"754\", \"757\", \"760\", \"762\", \"763\", \"765\", \"769\", \"770\", \"772\", \"773\", \"774\", \"775\", \"779\", \"781\", \"785\", \"786\", \"801\", \"802\", \"803\", \"804\", \"805\", \"806\", \"808\", \"810\", \"812\", \"813\", \"814\", \"815\", \"816\", \"817\", \"818\", \"828\", \"830\", \"831\", \"832\", \"843\", \"845\", \"847\", \"848\", \"850\", \"854\", \"856\", \"857\", \"858\", \"859\", \"860\", \"862\", \"863\", \"864\", \"865\", \"870\", \"872\", \"878\", \"901\", \"903\", \"904\", \"906\", \"907\", \"908\", \"909\", \"910\", \"912\", \"913\", \"914\", \"915\", \"916\", \"917\", \"918\", \"919\", \"920\", \"925\", \"928\", \"929\", \"930\", \"931\", \"934\", \"936\", \"937\", \"938\", \"940\", \"941\", \"947\", \"949\", \"951\", \"952\", \"954\", \"956\", \"959\", \"970\", \"971\", \"972\", \"973\", \"975\", \"978\", \"979\", \"980\", \"984\", \"985\", \"989\"]}, \"capital\": [\"Washington, D.C.\"], \"altSpellings\": [\"US\", \"USA\", \"United States of America\"], \"region\": \"Americas\", \"subregion\": \"North America\", \"languages\": {\"eng\": \"English\"}, \"latlng\": [38.0, -97.0], \"landlocked\": false, \"borders\": [\"CAN\", \"MEX\"], \"area\": 9372610.0, \"demonyms\": {\"eng\": {\"f\": \"American\", \"m\": \"American\"}, \"fra\": {\"f\": \"Am\\u00e9ricaine\", \"m\": \"Am\\u00e9ricain\"}}, \"cca3\": \"USA\", \"translations\": {\"ara\": {\"official\": \"\\u0627\\u0644\\u0648\\u0644\\u0627\\u064a\\u0627\\u062a \\u0627\\u0644\\u0645\\u062a\\u062d\\u062f\\u0629 \\u0627\\u0644\\u0627\\u0645\\u0631\\u064a\\u0643\\u064a\\u0629\", \"common\": \"\\u0627\\u0644\\u0648\\u0644\\u0627\\u064a\\u0627\\u062a \\u0627\\u0644\\u0645\\u062a\\u062d\\u062f\\u0629\"}, \"bre\": {\"official\": \"Stado\\u00f9-Unanet Amerika\", \"common\": \"Stado\\u00f9-Unanet\"}, \"ces\": {\"official\": \"Spojen\\u00e9 st\\u00e1ty americk\\u00e9\", \"common\": \"Spojen\\u00e9 st\\u00e1ty\"}, \"cym\": {\"official\": \"United States of America\", \"common\": \"United States\"}, \"deu\": {\"official\": \"Vereinigte Staaten von Amerika\", \"common\": \"Vereinigte Staaten\"}, \"est\": {\"official\": \"Ameerika \\u00dchendriigid\", \"common\": \"Ameerika \\u00dchendriigid\"}, \"fin\": {\"official\": \"Amerikan yhdysvallat\", \"common\": \"Yhdysvallat\"}, \"fra\": {\"official\": \"Les \\u00e9tats-unis d'Am\\u00e9rique\", \"common\": \"\\u00c9tats-Unis\"}, \"hrv\": {\"official\": \"Sjedinjene Dr\\u017eave Amerike\", \"common\": \"Sjedinjene Ameri\\u010dke Dr\\u017eave\"}, \"hun\": {\"official\": \"Amerikai Egyes\\u00fclt \\u00c1llamok\", \"common\": \"Amerikai Egyes\\u00fclt \\u00c1llamok\"}, \"ind\": {\"official\": \"Amerika Serikat\", \"common\": \"Amerika\"}, \"ita\": {\"official\": \"Stati Uniti d'America\", \"common\": \"Stati Uniti d'America\"}, \"jpn\": {\"official\": \"\\u30a2\\u30e1\\u30ea\\u30ab\\u5408\\u8846\\u56fd\", \"common\": \"\\u30a2\\u30e1\\u30ea\\u30ab\\u5408\\u8846\\u56fd\"}, \"kor\": {\"official\": \"\\uc544\\uba54\\ub9ac\\uce74 \\ud569\\uc911\\uad6d\", \"common\": \"\\ubbf8\\uad6d\"}, \"nld\": {\"official\": \"Verenigde Staten van Amerika\", \"common\": \"Verenigde Staten\"}, \"per\": {\"official\": \"\\u0627\\u06cc\\u0627\\u0644\\u0627\\u062a \\u0645\\u062a\\u062d\\u062f\\u0647 \\u0622\\u0645\\u0631\\u06cc\\u06a9\\u0627\", \"common\": \"\\u0627\\u06cc\\u0627\\u0644\\u0627\\u062a \\u0645\\u062a\\u062d\\u062f\\u0647 \\u0622\\u0645\\u0631\\u06cc\\u06a9\\u0627\"}, \"pol\": {\"official\": \"Stany Zjednoczone Ameryki\", \"common\": \"Stany Zjednoczone\"}, \"por\": {\"official\": \"Estados Unidos da Am\\u00e9rica\", \"common\": \"Estados Unidos\"}, \"rus\": {\"official\": \"\\u0421\\u043e\\u0435\\u0434\\u0438\\u043d\\u0435\\u043d\\u043d\\u044b\\u0435 \\u0428\\u0442\\u0430\\u0442\\u044b \\u0410\\u043c\\u0435\\u0440\\u0438\\u043a\\u0438\", \"common\": \"\\u0421\\u043e\\u0435\\u0434\\u0438\\u043d\\u0451\\u043d\\u043d\\u044b\\u0435 \\u0428\\u0442\\u0430\\u0442\\u044b \\u0410\\u043c\\u0435\\u0440\\u0438\\u043a\\u0438\"}, \"slk\": {\"official\": \"Spojen\\u00e9 \\u0161t\\u00e1ty Americk\\u00e9\", \"common\": \"Spojen\\u00e9 \\u0161t\\u00e1ty americk\\u00e9\"}, \"spa\": {\"official\": \"Estados Unidos de Am\\u00e9rica\", \"common\": \"Estados Unidos\"}, \"srp\": {\"official\": \"\\u0421\\u0458\\u0435\\u0434\\u0438\\u045a\\u0435\\u043d\\u0435 \\u0410\\u043c\\u0435\\u0440\\u0438\\u0447\\u043a\\u0435 \\u0414\\u0440\\u0436\\u0430\\u0432\\u0435\", \"common\": \"\\u0421\\u0458\\u0435\\u0434\\u0438\\u045a\\u0435\\u043d\\u0435 \\u0410\\u043c\\u0435\\u0440\\u0438\\u0447\\u043a\\u0435 \\u0414\\u0440\\u0436\\u0430\\u0432\\u0435\"}, \"swe\": {\"official\": \"Amerikas f\\u00f6renta stater\", \"common\": \"USA\"}, \"tur\": {\"official\": \"Amerika Birle\\u015fik Devletleri\", \"common\": \"Amerika Birle\\u015fik Devletleri\"}, \"urd\": {\"official\": \"\\u0631\\u06cc\\u0627\\u0633\\u062a\\u06c1\\u0627\\u0626\\u06d2 \\u0645\\u062a\\u062d\\u062f\\u06c1 \\u0627\\u0645\\u0631\\u06cc\\u06a9\\u0627\", \"common\": \"\\u0631\\u06cc\\u0627\\u0633\\u062a\\u06c1\\u0627\\u0626\\u06d2 \\u0645\\u062a\\u062d\\u062f\\u06c1\"}, \"zho\": {\"official\": \"\\u7f8e\\u5229\\u575a\\u5408\\u4f17\\u56fd\", \"common\": \"\\u7f8e\\u56fd\"}}, \"flag\": \"\\ud83c\\uddfa\\ud83c\\uddf8\", \"maps\": {\"googleMaps\": \"https://goo.gl/maps/e8M246zY4BSjkjAv6\", \"openStreetMaps\": \"https://www.openstreetmap.org/relation/148838#map=2/20.6/-85.8\"}, \"population\": 329484123, \"gini\": {\"2018\": 41.4}, \"fifa\": \"USA\", \"car\": {\"signs\": [\"USA\"], \"side\": \"right\"}, \"timezones\": [\"UTC-12:00\", \"UTC-11:00\", \"UTC-10:00\", \"UTC-09:00\", \"UTC-08:00\", \"UTC-07:00\", \"UTC-06:00\", \"UTC-05:00\", \"UTC-04:00\", \"UTC+10:00\", \"UTC+12:00\"], \"continents\": [\"North America\"], \"flags\": {\"png\": \"https://flagcdn.com/w320/us.png\", \"svg\": \"https://flagcdn.com/us.svg\", \"alt\": \"The flag of the United States of America is composed of thirteen equal horizontal bands of red alternating with white. A blue rectangle, bearing fifty small five-pointed white stars arranged in nine rows where rows of six stars alternate with rows of five stars, is superimposed in the canton.\"}, \"coatOfArms\": {\"png\": \"https://mainfacts.com/media/images/coats_of_arms/us.png\", \"svg\": \"https://mainfacts.com/media/images/coats_of_arms/us.svg\"}, \"startOfWeek\": \"sunday\", \"capitalInfo\": {\"latlng\": [38.89, -77.05]}, \"postalCode\": {\"format\": \"#####-####\", \"regex\": \"^\\\\d{5}(-\\\\d{4})?$\"}}]"
         ]
        ]
       ],
       "datasetInfos": [
        {
         "name": "_sqldf",
         "schema": {
          "fields": [
           {
            "metadata": {},
            "name": "dets",
            "nullable": true,
            "type": {
             "fields": [
              {
               "metadata": {},
               "name": "country_details",
               "nullable": true,
               "type": "string"
              }
             ],
             "type": "struct"
            }
           }
          ],
          "type": "struct"
         },
         "tableIdentifier": null,
         "typeStr": "pyspark.sql.connect.dataframe.DataFrame"
        }
       ],
       "dbfsResultPath": null,
       "isJsonSchema": true,
       "metadata": {
        "createTempViewForImplicitDf": true,
        "dataframeName": "_sqldf",
        "executionCount": 13
       },
       "overflow": false,
       "plotOptions": {
        "customPlotOptions": {},
        "displayType": "table",
        "pivotAggregation": null,
        "pivotColumns": null,
        "xColumns": null,
        "yColumns": null
       },
       "removedWidgets": [],
       "schema": [
        {
         "metadata": "{}",
         "name": "dets",
         "type": "{\"fields\":[{\"metadata\":{},\"name\":\"country_details\",\"nullable\":true,\"type\":\"string\"}],\"type\":\"struct\"}"
        }
       ],
       "type": "table"
      }
     },
     "output_type": "display_data"
    }
   ],
   "source": [
    "%sql\n",
    "CREATE OR REPLACE FUNCTION get_country_detail(country_name STRING)\n",
    "RETURNS STRUCT<country_details STRING>\n",
    "LANGUAGE PYTHON\n",
    "COMMENT 'This function retrieves the details about a given country. Returns details about country flag, languages, etc' \n",
    "AS\n",
    "$$\n",
    "  try:\n",
    "    import requests as r\n",
    "    import json\n",
    "    url = f'https://restcountries.com/v3.1/name/{country_name}/'\n",
    "    response = r.get(url)\n",
    "\n",
    "    return {\n",
    "      \"country_details\": json.dumps(response.json())\n",
    "    }\n",
    "  except:\n",
    "    return {\"country_details\": \"Country not known\"}\n",
    "$$;\n",
    "\n",
    "-- let's test our function:\n",
    "SELECT get_country_detail(\"USA\") as dets;\n",
    "\n"
   ]
  },
  {
   "cell_type": "markdown",
   "metadata": {
    "application/vnd.databricks.v1+cell": {
     "cellMetadata": {
      "byteLimit": 2048000,
      "rowLimit": 10000
     },
     "inputWidgets": {},
     "nuid": "8b513a6d-683c-405e-b6b7-12114a06016d",
     "showTitle": false,
     "tableResultSettingsMap": {},
     "title": ""
    }
   },
   "source": [
    "## Example 4: Creating a function calling LLMs with specific prompt as a tool\n",
    "\n",
    "You can also register tools containing custom prompts that your LLM can use to to execute actions based on the customer context.\n",
    "\n",
    "Let's create a tool that recommend the style for our user, based on the current weather."
   ]
  },
  {
   "cell_type": "code",
   "execution_count": 0,
   "metadata": {
    "application/vnd.databricks.v1+cell": {
     "cellMetadata": {
      "byteLimit": 2048000,
      "implicitDf": true,
      "rowLimit": 10000
     },
     "inputWidgets": {},
     "nuid": "ec27c3da-61b7-436a-8f23-f192bdc6ef90",
     "showTitle": false,
     "tableResultSettingsMap": {
      "0": {
       "dataGridStateBlob": "{\"version\":1,\"tableState\":{\"columnPinning\":{\"left\":[\"#row_number#\"],\"right\":[]},\"columnSizing\":{},\"columnVisibility\":{}},\"settings\":{\"columns\":{}},\"syncTimestamp\":1752081798286}",
       "filterBlob": null,
       "queryPlanFiltersBlob": null,
       "tableResultIndex": 0
      }
     },
     "title": ""
    }
   },
   "outputs": [
    {
     "output_type": "display_data",
     "data": {
      "text/html": [
       "<style scoped>\n",
       "  .table-result-container {\n",
       "    max-height: 300px;\n",
       "    overflow: auto;\n",
       "  }\n",
       "  table, th, td {\n",
       "    border: 1px solid black;\n",
       "    border-collapse: collapse;\n",
       "  }\n",
       "  th, td {\n",
       "    padding: 5px;\n",
       "  }\n",
       "  th {\n",
       "    text-align: left;\n",
       "  }\n",
       "</style><div class='table-result-container'><table class='table-result'><thead style='background-color: white'><tr><th>recommend_outfit_description(\"I need a dress for an interview.\",30.1,0.0)</th></tr></thead><tbody><tr><td>I'd be happy to help you with an outfit recommendation for your interview.\n",
       "\n",
       "Considering the warm weather (30.1°C) and no rain, I would suggest a lightweight, breathable, and professional dress. Here are a few ideas:\n",
       "\n",
       "* A knee-length or just above the knee dress in a neutral color such as:\n",
       "\t+ Navy blue (a classic and professional choice)\n",
       "\t+ Black (timeless and versatile)\n",
       "\t+ Light gray or beige (great for a more modern and sleek look)\n",
       "* A dress made from a comfortable and breathable fabric such as cotton, linen, or silk.\n",
       "* A dress with a modest neckline and sleeves (cap sleeves or short sleeves) to ensure a professional and polished look.\n",
       "\n",
       "To add some visual interest to your outfit, you could consider:\n",
       "* A statement piece of jewelry, such as a simple necklace or earrings, in a metallic color like silver or gold.\n",
       "* A pair of low to moderate heels (around 2-3 inches) in a neutral color to elevate your look.\n",
       "* A simple belt to cinch at the waist and create a more defined silhouette.\n",
       "\n",
       "Some popular dress styles for interviews include:\n",
       "* A shift dress: a simple, straight-cut dress that skims the body.\n",
       "* A fit-and-flare dress: a dress that fits closely at the waist and flares out at the hem.\n",
       "* A sheath dress: a form-fitting dress that skims the body and hits just above the knee.\n",
       "\n",
       "Remember, the key is to look polished, professional, and confident. Choose a dress that makes you feel great, and don't hesitate to add your own personal touches to make the outfit truly yours.\n",
       "\n",
       "What type of dress style or color are you leaning towards? Or would you like more specific recommendations?</td></tr></tbody></table></div>"
      ]
     },
     "metadata": {
      "application/vnd.databricks.v1+output": {
       "addedWidgets": {},
       "aggData": [],
       "aggError": "",
       "aggOverflow": false,
       "aggSchema": [],
       "aggSeriesLimitReached": false,
       "aggType": "",
       "arguments": {},
       "columnCustomDisplayInfos": {},
       "data": [
        [
         "I'd be happy to help you with an outfit recommendation for your interview.\n\nConsidering the warm weather (30.1°C) and no rain, I would suggest a lightweight, breathable, and professional dress. Here are a few ideas:\n\n* A knee-length or just above the knee dress in a neutral color such as:\n\t+ Navy blue (a classic and professional choice)\n\t+ Black (timeless and versatile)\n\t+ Light gray or beige (great for a more modern and sleek look)\n* A dress made from a comfortable and breathable fabric such as cotton, linen, or silk.\n* A dress with a modest neckline and sleeves (cap sleeves or short sleeves) to ensure a professional and polished look.\n\nTo add some visual interest to your outfit, you could consider:\n* A statement piece of jewelry, such as a simple necklace or earrings, in a metallic color like silver or gold.\n* A pair of low to moderate heels (around 2-3 inches) in a neutral color to elevate your look.\n* A simple belt to cinch at the waist and create a more defined silhouette.\n\nSome popular dress styles for interviews include:\n* A shift dress: a simple, straight-cut dress that skims the body.\n* A fit-and-flare dress: a dress that fits closely at the waist and flares out at the hem.\n* A sheath dress: a form-fitting dress that skims the body and hits just above the knee.\n\nRemember, the key is to look polished, professional, and confident. Choose a dress that makes you feel great, and don't hesitate to add your own personal touches to make the outfit truly yours.\n\nWhat type of dress style or color are you leaning towards? Or would you like more specific recommendations?"
        ]
       ],
       "datasetInfos": [
        {
         "name": "_sqldf",
         "schema": {
          "fields": [
           {
            "metadata": {},
            "name": "recommend_outfit_description(\"I need a dress for an interview.\",30.1,0.0)",
            "nullable": true,
            "type": "string"
           }
          ],
          "type": "struct"
         },
         "tableIdentifier": null,
         "typeStr": "pyspark.sql.connect.dataframe.DataFrame"
        }
       ],
       "dbfsResultPath": null,
       "isJsonSchema": true,
       "metadata": {
        "createTempViewForImplicitDf": true,
        "dataframeName": "_sqldf",
        "executionCount": 14
       },
       "overflow": false,
       "plotOptions": {
        "customPlotOptions": {},
        "displayType": "table",
        "pivotAggregation": null,
        "pivotColumns": null,
        "xColumns": null,
        "yColumns": null
       },
       "removedWidgets": [],
       "schema": [
        {
         "metadata": "{}",
         "name": "recommend_outfit_description(\"I need a dress for an interview.\",30.1,0.0)",
         "type": "\"string\""
        }
       ],
       "type": "table"
      }
     },
     "output_type": "display_data"
    }
   ],
   "source": [
    "%sql\n",
    "CREATE OR REPLACE FUNCTION recommend_outfit_description(requested_style STRING, temperature_in_celsius FLOAT, rain_in_mm FLOAT)\n",
    "RETURNS STRING\n",
    "LANGUAGE SQL\n",
    "COMMENT 'This function generate a stylist outfit description based on initial request and the current weather.'\n",
    "RETURN SELECT ai_query('databricks-meta-llama-3-3-70b-instruct',\n",
    "    CONCAT(\"You are a stylist assistant. Your goal is to give recommendation on what would be the best outfit for today. The current temperature is \",temperature_in_celsius ,\" celsius and rain is:\", rain_in_mm, \"mm. Give size in inches if any. Don't assume customer size if they don't share it. Give ideas of colors and other items to match. The user added this instruction based on what they like: \", requested_style)\n",
    "  ) AS recommended_outfit;\n",
    "\n",
    "-- let's test our function:\n",
    "SELECT recommend_outfit_description(\"I need a dress for an interview.\", 30.1, 0.0)"
   ]
  },
  {
   "cell_type": "code",
   "execution_count": 0,
   "metadata": {
    "application/vnd.databricks.v1+cell": {
     "cellMetadata": {
      "byteLimit": 2048000,
      "implicitDf": true,
      "rowLimit": 10000
     },
     "inputWidgets": {},
     "nuid": "689e5da7-bd00-4d24-a36b-3d54ed3ac4d0",
     "showTitle": false,
     "tableResultSettingsMap": {},
     "title": ""
    }
   },
   "outputs": [
    {
     "output_type": "display_data",
     "data": {
      "text/html": [
       "<style scoped>\n",
       "  .table-result-container {\n",
       "    max-height: 300px;\n",
       "    overflow: auto;\n",
       "  }\n",
       "  table, th, td {\n",
       "    border: 1px solid black;\n",
       "    border-collapse: collapse;\n",
       "  }\n",
       "  th, td {\n",
       "    padding: 5px;\n",
       "  }\n",
       "  th {\n",
       "    text-align: left;\n",
       "  }\n",
       "</style><div class='table-result-container'><table class='table-result'><thead style='background-color: white'><tr><th>result</th></tr></thead><tbody><tr><td>1.3333333333333333</td></tr></tbody></table></div>"
      ]
     },
     "metadata": {
      "application/vnd.databricks.v1+output": {
       "addedWidgets": {},
       "aggData": [],
       "aggError": "",
       "aggOverflow": false,
       "aggSchema": [],
       "aggSeriesLimitReached": false,
       "aggType": "",
       "arguments": {},
       "columnCustomDisplayInfos": {},
       "data": [
        [
         "1.3333333333333333"
        ]
       ],
       "datasetInfos": [
        {
         "name": "_sqldf",
         "schema": {
          "fields": [
           {
            "metadata": {},
            "name": "result",
            "nullable": true,
            "type": "string"
           }
          ],
          "type": "struct"
         },
         "tableIdentifier": null,
         "typeStr": "pyspark.sql.connect.dataframe.DataFrame"
        }
       ],
       "dbfsResultPath": null,
       "isJsonSchema": true,
       "metadata": {
        "createTempViewForImplicitDf": true,
        "dataframeName": "_sqldf",
        "executionCount": 15
       },
       "overflow": false,
       "plotOptions": {
        "customPlotOptions": {},
        "displayType": "table",
        "pivotAggregation": null,
        "pivotColumns": null,
        "xColumns": null,
        "yColumns": null
       },
       "removedWidgets": [],
       "schema": [
        {
         "metadata": "{}",
         "name": "result",
         "type": "\"string\""
        }
       ],
       "type": "table"
      }
     },
     "output_type": "display_data"
    }
   ],
   "source": [
    "%sql\n",
    "CREATE OR REPLACE FUNCTION compute_math(expr STRING)\n",
    "RETURNS STRING\n",
    "LANGUAGE PYTHON\n",
    "COMMENT 'Run any mathematical function and returns the result as output. Supports python syntax like math.sqrt(13)'\n",
    "AS\n",
    "$$\n",
    "  import ast\n",
    "  import operator\n",
    "  import math\n",
    "  operators = {ast.Add: operator.add, ast.Sub: operator.sub, ast.Mult: operator.mul, ast.Div: operator.truediv, ast.Pow: operator.pow, ast.Mod: operator.mod, ast.FloorDiv: operator.floordiv, ast.UAdd: operator.pos, ast.USub: operator.neg}\n",
    "    \n",
    "  # Supported functions from the math module\n",
    "  functions = {name: getattr(math, name) for name in dir(math) if callable(getattr(math, name))}\n",
    "\n",
    "  def eval_node(node):\n",
    "    if isinstance(node, ast.Num):  # <number>\n",
    "      return node.n\n",
    "    elif isinstance(node, ast.BinOp):  # <left> <operator> <right>\n",
    "      return operators[type(node.op)](eval_node(node.left), eval_node(node.right))\n",
    "    elif isinstance(node, ast.UnaryOp):  # <operator> <operand> e.g., -1\n",
    "      return operators[type(node.op)](eval_node(node.operand))\n",
    "    elif isinstance(node, ast.Call):  # <func>(<args>)\n",
    "      func = node.func.id\n",
    "      if func in functions:\n",
    "        args = [eval_node(arg) for arg in node.args]\n",
    "        return functions[func](*args)\n",
    "      else:\n",
    "        raise TypeError(f\"Unsupported function: {func}\")\n",
    "    else:\n",
    "      raise TypeError(f\"Unsupported type: {type(node)}\")  \n",
    "  try:\n",
    "    if expr.startswith('```') and expr.endswith('```'):\n",
    "      expr = expr[3:-3].strip()      \n",
    "    node = ast.parse(expr, mode='eval').body\n",
    "    return eval_node(node)\n",
    "  except Exception as ex:\n",
    "    return str(ex)\n",
    "$$;\n",
    "-- let's test our function:\n",
    "SELECT compute_math(\"(2+2)/3\") as result;"
   ]
  },
  {
   "cell_type": "code",
   "execution_count": 0,
   "metadata": {
    "application/vnd.databricks.v1+cell": {
     "cellMetadata": {
      "byteLimit": 2048000,
      "implicitDf": true,
      "rowLimit": 10000
     },
     "inputWidgets": {},
     "nuid": "83f96f1d-e1d2-4d07-b748-2a7f26a49617",
     "showTitle": false,
     "tableResultSettingsMap": {},
     "title": ""
    }
   },
   "outputs": [
    {
     "output_type": "display_data",
     "data": {
      "text/html": [
       "<style scoped>\n",
       "  .table-result-container {\n",
       "    max-height: 300px;\n",
       "    overflow: auto;\n",
       "  }\n",
       "  table, th, td {\n",
       "    border: 1px solid black;\n",
       "    border-collapse: collapse;\n",
       "  }\n",
       "  th, td {\n",
       "    padding: 5px;\n",
       "  }\n",
       "  th {\n",
       "    text-align: left;\n",
       "  }\n",
       "</style><div class='table-result-container'><table class='table-result'><thead style='background-color: white'><tr><th>result</th></tr></thead><tbody><tr><td>Hello World! Hello World! Hello World! </td></tr></tbody></table></div>"
      ]
     },
     "metadata": {
      "application/vnd.databricks.v1+output": {
       "addedWidgets": {},
       "aggData": [],
       "aggError": "",
       "aggOverflow": false,
       "aggSchema": [],
       "aggSeriesLimitReached": false,
       "aggType": "",
       "arguments": {},
       "columnCustomDisplayInfos": {},
       "data": [
        [
         "Hello World! Hello World! Hello World! "
        ]
       ],
       "datasetInfos": [
        {
         "name": "_sqldf",
         "schema": {
          "fields": [
           {
            "metadata": {},
            "name": "result",
            "nullable": true,
            "type": "string"
           }
          ],
          "type": "struct"
         },
         "tableIdentifier": null,
         "typeStr": "pyspark.sql.connect.dataframe.DataFrame"
        }
       ],
       "dbfsResultPath": null,
       "isJsonSchema": true,
       "metadata": {
        "createTempViewForImplicitDf": true,
        "dataframeName": "_sqldf",
        "executionCount": 16
       },
       "overflow": false,
       "plotOptions": {
        "customPlotOptions": {},
        "displayType": "table",
        "pivotAggregation": null,
        "pivotColumns": null,
        "xColumns": null,
        "yColumns": null
       },
       "removedWidgets": [],
       "schema": [
        {
         "metadata": "{}",
         "name": "result",
         "type": "\"string\""
        }
       ],
       "type": "table"
      }
     },
     "output_type": "display_data"
    }
   ],
   "source": [
    "%sql\n",
    "CREATE OR REPLACE FUNCTION execute_python_code(python_code STRING)\n",
    "RETURNS STRING\n",
    "LANGUAGE PYTHON\n",
    "COMMENT \"Run python code. The code should end with a return statement and this function will return it as a string. Only send valid python to this function. Here is an exampe of python code input: 'def square_function(number):\\\\n  return number*number\\\\n\\\\nreturn square_function(3)'\"\n",
    "AS\n",
    "$$\n",
    "    import traceback\n",
    "    try:\n",
    "        import re\n",
    "        # Remove code block markers (e.g., ```python) and strip whitespace```\n",
    "        python_code = re.sub(r\"^\\s*```(?:python)?|```\\s*$\", \"\", python_code).strip()\n",
    "        # Unescape any escaped newline characters\n",
    "        python_code = python_code.replace(\"\\\\n\", \"\\n\")\n",
    "        # Properly indent the code for wrapping\n",
    "        indented_code = \"\\n    \".join(python_code.split(\"\\n\"))\n",
    "        # Define a wrapper function to execute the code\n",
    "        exec_globals = {}\n",
    "        exec_locals = {}\n",
    "        wrapper_code = \"def _temp_function():\\n    \"+indented_code\n",
    "        exec(wrapper_code, exec_globals, exec_locals)\n",
    "        # Execute the wrapped function and return its output\n",
    "        result = exec_locals[\"_temp_function\"]()\n",
    "        return result\n",
    "    except Exception as ex:\n",
    "        return traceback.format_exc()\n",
    "$$;\n",
    "-- let's test our function:\n",
    "\n",
    "SELECT execute_python_code(\"return 'Hello World! '* 3\") as result;"
   ]
  }
 ],
 "metadata": {
  "application/vnd.databricks.v1+notebook": {
   "computePreferences": null,
   "dashboards": [],
   "environmentMetadata": {
    "environment_version": "2"
   },
   "inputWidgetPreferences": null,
   "language": "python",
   "notebookMetadata": {
    "mostRecentlyExecutedCommandWithImplicitDF": {
     "commandId": 3397375242345375,
     "dataframes": [
      "_sqldf"
     ]
    },
    "pythonIndentUnit": 2
   },
   "notebookName": "00-create-functions",
   "widgets": {}
  },
  "language_info": {
   "name": "python"
  }
 },
 "nbformat": 4,
 "nbformat_minor": 0
}