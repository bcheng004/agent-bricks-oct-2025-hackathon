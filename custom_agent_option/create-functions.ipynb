{
 "cells": [
  {
   "cell_type": "markdown",
   "metadata": {
    "application/vnd.databricks.v1+cell": {
     "cellMetadata": {},
     "inputWidgets": {},
     "nuid": "aae1e2ff-6117-4e1b-998a-2a66eca0bf6d",
     "showTitle": false,
     "tableResultSettingsMap": {},
     "title": ""
    }
   },
   "source": [
    "# Tool usage in LLMs\n",
    "\n",
    "LLMs can leverage tools in many ways such as\n",
    "\n",
    "- Functions within LLM frameworks (Langchain, LangGraphDSPy)\n",
    "- Functions registered with Unity Catalog (sql, python)\n",
    "- Tools with external tools (REST APIs, etc)\n",
    "- Databricks managed MCP Servers \n",
    "- External MCP Servers (can be hosted within Databricks)\n"
   ]
  },
  {
   "cell_type": "code",
   "execution_count": 0,
   "metadata": {
    "application/vnd.databricks.v1+cell": {
     "cellMetadata": {
      "byteLimit": 2048000,
      "rowLimit": 10000
     },
     "inputWidgets": {},
     "nuid": "05db1589-148d-4d26-b7dd-80f98bed8a8b",
     "showTitle": false,
     "tableResultSettingsMap": {},
     "title": ""
    }
   },
   "outputs": [],
   "source": [
    "%pip install databricks-sdk==0.41.0 \n",
    "dbutils.library.restartPython()"
   ]
  },
  {
   "cell_type": "code",
   "execution_count": 0,
   "metadata": {
    "application/vnd.databricks.v1+cell": {
     "cellMetadata": {
      "byteLimit": 2048000,
      "rowLimit": 10000
     },
     "inputWidgets": {},
     "nuid": "e14ee7b5-572d-4000-8e8c-98e92e38f91c",
     "showTitle": false,
     "tableResultSettingsMap": {},
     "title": ""
    },
    "jupyter": {
     "outputs_hidden": true
    }
   },
   "outputs": [],
   "source": [
    "# %run ./_resources/00-init-stylist $reset_all=false\n",
    "catalog = \"users\"\n",
    "dbName = db = \"rob_bajra\"\n",
    "volume_name = \"dbdemos_agent_volume\"\n",
    "\n",
    "spark.sql(f\"USE `{catalog}`.`{db}`\")"
   ]
  },
  {
   "cell_type": "markdown",
   "metadata": {
    "application/vnd.databricks.v1+cell": {
     "cellMetadata": {},
     "inputWidgets": {},
     "nuid": "70095b6f-1501-411e-ba95-6192489c7b50",
     "showTitle": false,
     "tableResultSettingsMap": {},
     "title": ""
    }
   },
   "source": [
    "## Example 1: Unity Catalog sql function\n"
   ]
  },
  {
   "cell_type": "code",
   "execution_count": 0,
   "metadata": {
    "application/vnd.databricks.v1+cell": {
     "cellMetadata": {
      "byteLimit": 2048000,
      "implicitDf": true,
      "rowLimit": 10000
     },
     "inputWidgets": {},
     "nuid": "e1336b5d-8502-4364-9abe-7c7ef4fa2a89",
     "showTitle": false,
     "tableResultSettingsMap": {},
     "title": ""
    }
   },
   "outputs": [],
   "source": [
    "%sql\n",
    "CREATE OR REPLACE FUNCTION convert_inch_to_cm(size_in_inch FLOAT)\n",
    "RETURNS FLOAT\n",
    "LANGUAGE SQL\n",
    "COMMENT 'convert size from inch to cm'\n",
    "RETURN size_in_inch * 2.54;\n",
    "\n",
    "-- let's test our function:\n",
    "SELECT convert_inch_to_cm(10) as 10_inches_in_cm;"
   ]
  },
  {
   "cell_type": "markdown",
   "metadata": {
    "application/vnd.databricks.v1+cell": {
     "cellMetadata": {},
     "inputWidgets": {},
     "nuid": "37922a8d-1b90-4d55-b660-380e85a796f4",
     "showTitle": false,
     "tableResultSettingsMap": {},
     "title": ""
    }
   },
   "source": [
    "## Example 2: Unity Catalog python function"
   ]
  },
  {
   "cell_type": "code",
   "execution_count": 0,
   "metadata": {
    "application/vnd.databricks.v1+cell": {
     "cellMetadata": {
      "byteLimit": 2048000,
      "implicitDf": true,
      "rowLimit": 10000
     },
     "inputWidgets": {},
     "nuid": "ca597862-920d-438b-912b-aa077ee930b1",
     "showTitle": false,
     "tableResultSettingsMap": {},
     "title": ""
    }
   },
   "outputs": [],
   "source": [
    "# %sql\n",
    "# CREATE OR REPLACE FUNCTION get_customer_orders ()\n",
    "# RETURNS TABLE(user_id STRING,\n",
    "#   id STRING,\n",
    "#   transaction_date STRING,\n",
    "#   item_count DOUBLE,\n",
    "#   amount DOUBLE,\n",
    "#   order_status STRING)\n",
    "# COMMENT 'Returns a list of customer orders for the given customer ID (expect a UUID)'\n",
    "# LANGUAGE SQL\n",
    "#     RETURN\n",
    "#     SELECT o.* from tools_orders o \n",
    "#     inner join tools_customers c on c.id = o.user_id \n",
    "#     where email=current_user() ORDER BY transaction_date desc;\n",
    "\n",
    "# SELECT * FROM get_customer_orders();"
   ]
  },
  {
   "cell_type": "markdown",
   "metadata": {
    "application/vnd.databricks.v1+cell": {
     "cellMetadata": {},
     "inputWidgets": {},
     "nuid": "4869ce03-b92a-4f91-bbe0-ee4d7c97c28a",
     "showTitle": false,
     "tableResultSettingsMap": {},
     "title": ""
    }
   },
   "source": [
    "## Example 3: Unity Catalog external API function\n"
   ]
  },
  {
   "cell_type": "code",
   "execution_count": 0,
   "metadata": {
    "application/vnd.databricks.v1+cell": {
     "cellMetadata": {
      "byteLimit": 2048000,
      "implicitDf": true,
      "rowLimit": 10000
     },
     "inputWidgets": {},
     "nuid": "49bb635a-44b1-4d2c-a25c-a429b65d8218",
     "showTitle": false,
     "tableResultSettingsMap": {},
     "title": ""
    }
   },
   "outputs": [],
   "source": [
    "%sql\n",
    "CREATE OR REPLACE FUNCTION get_country_detail(country_name STRING)\n",
    "RETURNS STRUCT<country_details STRING>\n",
    "LANGUAGE PYTHON\n",
    "COMMENT 'This function retrieves the details about a given country. Returns details about country flag, languages, etc' \n",
    "AS\n",
    "$$\n",
    "  try:\n",
    "    import requests as r\n",
    "    import json\n",
    "    url = f'https://restcountries.com/v3.1/name/{country_name}/'\n",
    "    response = r.get(url)\n",
    "\n",
    "    return {\n",
    "      \"country_details\": json.dumps(response.json())\n",
    "    }\n",
    "  except:\n",
    "    return {\"country_details\": \"Country not known\"}\n",
    "$$;\n",
    "\n",
    "-- let's test our function:\n",
    "SELECT get_country_detail(\"USA\") as dets;\n",
    "\n"
   ]
  },
  {
   "cell_type": "markdown",
   "metadata": {
    "application/vnd.databricks.v1+cell": {
     "cellMetadata": {},
     "inputWidgets": {},
     "nuid": "8b513a6d-683c-405e-b6b7-12114a06016d",
     "showTitle": false,
     "tableResultSettingsMap": {},
     "title": ""
    }
   },
   "source": [
    "## Example 4: Creating a function calling LLMs with specific prompt as a tool\n",
    "\n",
    "You can also register tools containing custom prompts that your LLM can use to to execute actions based on the customer context.\n",
    "\n",
    "Let's create a tool that recommend the style for our user, based on the current weather."
   ]
  },
  {
   "cell_type": "code",
   "execution_count": 0,
   "metadata": {
    "application/vnd.databricks.v1+cell": {
     "cellMetadata": {
      "byteLimit": 2048000,
      "implicitDf": true,
      "rowLimit": 10000
     },
     "inputWidgets": {},
     "nuid": "ec27c3da-61b7-436a-8f23-f192bdc6ef90",
     "showTitle": false,
     "tableResultSettingsMap": {
      "0": {
       "dataGridStateBlob": "{\"version\":1,\"tableState\":{\"columnPinning\":{\"left\":[\"#row_number#\"],\"right\":[]},\"columnSizing\":{},\"columnVisibility\":{}},\"settings\":{\"columns\":{}},\"syncTimestamp\":1752081798286}",
       "filterBlob": null,
       "queryPlanFiltersBlob": null,
       "tableResultIndex": 0
      }
     },
     "title": ""
    }
   },
   "outputs": [],
   "source": [
    "%sql\n",
    "CREATE OR REPLACE FUNCTION recommend_outfit_description(requested_style STRING, temperature_in_celsius FLOAT, rain_in_mm FLOAT)\n",
    "RETURNS STRING\n",
    "LANGUAGE SQL\n",
    "COMMENT 'This function generate a stylist outfit description based on initial request and the current weather.'\n",
    "RETURN SELECT ai_query('databricks-meta-llama-3-3-70b-instruct',\n",
    "    CONCAT(\"You are a stylist assistant. Your goal is to give recommendation on what would be the best outfit for today. The current temperature is \",temperature_in_celsius ,\" celsius and rain is:\", rain_in_mm, \"mm. Give size in inches if any. Don't assume customer size if they don't share it. Give ideas of colors and other items to match. The user added this instruction based on what they like: \", requested_style)\n",
    "  ) AS recommended_outfit;\n",
    "\n",
    "-- let's test our function:\n",
    "SELECT recommend_outfit_description(\"I need a dress for an interview.\", 30.1, 0.0)"
   ]
  },
  {
   "cell_type": "code",
   "execution_count": 0,
   "metadata": {
    "application/vnd.databricks.v1+cell": {
     "cellMetadata": {
      "byteLimit": 2048000,
      "implicitDf": true,
      "rowLimit": 10000
     },
     "inputWidgets": {},
     "nuid": "689e5da7-bd00-4d24-a36b-3d54ed3ac4d0",
     "showTitle": false,
     "tableResultSettingsMap": {},
     "title": ""
    }
   },
   "outputs": [],
   "source": [
    "%sql\n",
    "CREATE OR REPLACE FUNCTION compute_math(expr STRING)\n",
    "RETURNS STRING\n",
    "LANGUAGE PYTHON\n",
    "COMMENT 'Run any mathematical function and returns the result as output. Supports python syntax like math.sqrt(13)'\n",
    "AS\n",
    "$$\n",
    "  import ast\n",
    "  import operator\n",
    "  import math\n",
    "  operators = {ast.Add: operator.add, ast.Sub: operator.sub, ast.Mult: operator.mul, ast.Div: operator.truediv, ast.Pow: operator.pow, ast.Mod: operator.mod, ast.FloorDiv: operator.floordiv, ast.UAdd: operator.pos, ast.USub: operator.neg}\n",
    "    \n",
    "  # Supported functions from the math module\n",
    "  functions = {name: getattr(math, name) for name in dir(math) if callable(getattr(math, name))}\n",
    "\n",
    "  def eval_node(node):\n",
    "    if isinstance(node, ast.Num):  # <number>\n",
    "      return node.n\n",
    "    elif isinstance(node, ast.BinOp):  # <left> <operator> <right>\n",
    "      return operators[type(node.op)](eval_node(node.left), eval_node(node.right))\n",
    "    elif isinstance(node, ast.UnaryOp):  # <operator> <operand> e.g., -1\n",
    "      return operators[type(node.op)](eval_node(node.operand))\n",
    "    elif isinstance(node, ast.Call):  # <func>(<args>)\n",
    "      func = node.func.id\n",
    "      if func in functions:\n",
    "        args = [eval_node(arg) for arg in node.args]\n",
    "        return functions[func](*args)\n",
    "      else:\n",
    "        raise TypeError(f\"Unsupported function: {func}\")\n",
    "    else:\n",
    "      raise TypeError(f\"Unsupported type: {type(node)}\")  \n",
    "  try:\n",
    "    if expr.startswith('```') and expr.endswith('```'):\n",
    "      expr = expr[3:-3].strip()      \n",
    "    node = ast.parse(expr, mode='eval').body\n",
    "    return eval_node(node)\n",
    "  except Exception as ex:\n",
    "    return str(ex)\n",
    "$$;\n",
    "-- let's test our function:\n",
    "SELECT compute_math(\"(2+2)/3\") as result;"
   ]
  },
  {
   "cell_type": "code",
   "execution_count": 0,
   "metadata": {
    "application/vnd.databricks.v1+cell": {
     "cellMetadata": {
      "byteLimit": 2048000,
      "implicitDf": true,
      "rowLimit": 10000
     },
     "inputWidgets": {},
     "nuid": "83f96f1d-e1d2-4d07-b748-2a7f26a49617",
     "showTitle": false,
     "tableResultSettingsMap": {},
     "title": ""
    }
   },
   "outputs": [],
   "source": [
    "%sql\n",
    "CREATE OR REPLACE FUNCTION execute_python_code(python_code STRING)\n",
    "RETURNS STRING\n",
    "LANGUAGE PYTHON\n",
    "COMMENT \"Run python code. The code should end with a return statement and this function will return it as a string. Only send valid python to this function. Here is an exampe of python code input: 'def square_function(number):\\\\n  return number*number\\\\n\\\\nreturn square_function(3)'\"\n",
    "AS\n",
    "$$\n",
    "    import traceback\n",
    "    try:\n",
    "        import re\n",
    "        # Remove code block markers (e.g., ```python) and strip whitespace```\n",
    "        python_code = re.sub(r\"^\\s*```(?:python)?|```\\s*$\", \"\", python_code).strip()\n",
    "        # Unescape any escaped newline characters\n",
    "        python_code = python_code.replace(\"\\\\n\", \"\\n\")\n",
    "        # Properly indent the code for wrapping\n",
    "        indented_code = \"\\n    \".join(python_code.split(\"\\n\"))\n",
    "        # Define a wrapper function to execute the code\n",
    "        exec_globals = {}\n",
    "        exec_locals = {}\n",
    "        wrapper_code = \"def _temp_function():\\n    \"+indented_code\n",
    "        exec(wrapper_code, exec_globals, exec_locals)\n",
    "        # Execute the wrapped function and return its output\n",
    "        result = exec_locals[\"_temp_function\"]()\n",
    "        return result\n",
    "    except Exception as ex:\n",
    "        return traceback.format_exc()\n",
    "$$;\n",
    "-- let's test our function:\n",
    "\n",
    "SELECT execute_python_code(\"return 'Hello World! '* 3\") as result;"
   ]
  }
 ],
 "metadata": {
  "application/vnd.databricks.v1+notebook": {
   "computePreferences": null,
   "dashboards": [],
   "environmentMetadata": {
    "environment_version": "2"
   },
   "inputWidgetPreferences": null,
   "language": "python",
   "notebookMetadata": {
    "mostRecentlyExecutedCommandWithImplicitDF": {
     "commandId": 3397375242345375,
     "dataframes": [
      "_sqldf"
     ]
    },
    "pythonIndentUnit": 2
   },
   "notebookName": "create-functions",
   "widgets": {}
  },
  "language_info": {
   "name": "python"
  }
 },
 "nbformat": 4,
 "nbformat_minor": 0
}
