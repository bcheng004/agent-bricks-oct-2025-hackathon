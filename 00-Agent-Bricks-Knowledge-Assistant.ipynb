{
 "cells": [
  {
   "cell_type": "markdown",
   "metadata": {
    "application/vnd.databricks.v1+cell": {
     "cellMetadata": {},
     "inputWidgets": {},
     "nuid": "1f9086ad-c11f-4939-93d9-383bff9cfd27",
     "showTitle": false,
     "tableResultSettingsMap": {},
     "title": ""
    }
   },
   "source": [
    "### Use Agent Bricks: Knowledge Assistant to create a high-quality chatbot over your documents\n",
    "\n",
    "Use Agent Bricks: Knowledge Assistant to create a chatbot with which you can ask questions on your documents and receive high-quality responses with citations. Knowledge Assistant uses advanced AI and follows a retrieval-augmented generation (RAG) approach to deliver accurate, reliable answers based on the domain-specialized knowledge you provide it.\n",
    "\n",
    "Agent Bricks: Knowledge Assistant is ideal for supporting the following use cases:\n",
    "\n",
    "- Answer user questions based on product documentation.\n",
    "- Answer employee questions related to HR policies.\n",
    "- Answer customer inquiries based on support knowledge bases.\n",
    "\n",
    "Key benefits:\n",
    "\n",
    "- Access unstructured data in Volumes or Vector Search Index: users can query wide range of file types: PDFs, word files, slides, etc\n",
    "- Built-in metrics and eval: measure against real-life questions and optimize to improve\n",
    "- Production grade scalability: scale out to production use cases and spend less type with GenAI infrastructure"
   ]
  },
  {
   "cell_type": "markdown",
   "metadata": {
    "application/vnd.databricks.v1+cell": {
     "cellMetadata": {},
     "inputWidgets": {},
     "nuid": "96a7e450-4419-4a29-9490-df087de1a017",
     "showTitle": false,
     "tableResultSettingsMap": {},
     "title": ""
    }
   },
   "source": [
    "### Overview\n",
    "\n",
    "For this demo, we’re using a telecom dataset comprising two main components: a knowledge base and a set of support tickets.\n",
    "\n",
    "- The knowledge base includes FAQs, troubleshooting guides, and company policies addressing various topics.\n",
    "- The support tickets cover cases from 2024 and 2025, each paired with its corresponding resolution. \n",
    "\n",
    "By utilizing this dataset, we aim to create a customer support knowledge assistant designed to deliver accurate and insightful assistance across diverse customer inquiries and interactions."
   ]
  },
  {
   "cell_type": "markdown",
   "metadata": {
    "application/vnd.databricks.v1+cell": {
     "cellMetadata": {},
     "inputWidgets": {},
     "nuid": "d26a14be-62ee-4c66-b9bb-9200aa2afc93",
     "showTitle": false,
     "tableResultSettingsMap": {},
     "title": ""
    }
   },
   "source": [
    "### Create a knowledge assistant agent"
   ]
  },
  {
   "cell_type": "markdown",
   "metadata": {
    "application/vnd.databricks.v1+cell": {
     "cellMetadata": {},
     "inputWidgets": {},
     "nuid": "9f57091c-3fc1-4cd5-83a1-1877ef2de7bd",
     "showTitle": false,
     "tableResultSettingsMap": {},
     "title": ""
    }
   },
   "source": [
    "### Step 0\n",
    "\n",
    "Go to the Agents icon in the left navigation pane of your workspace and click Knowledge Assistant.\n",
    "\n",
    "<img src=https://raw.githubusercontent.com/bcheng004/agent-bricks-oct-2025-hackathon/main/imgs/knowledge-assistant-00.png>"
   ]
  },
  {
   "cell_type": "markdown",
   "metadata": {
    "application/vnd.databricks.v1+cell": {
     "cellMetadata": {},
     "inputWidgets": {},
     "nuid": "d05c8264-0b74-4ae3-a938-f77314d181db",
     "showTitle": false,
     "tableResultSettingsMap": {},
     "title": ""
    }
   },
   "source": [
    "### Step 1 - Name and describe your agent\n",
    "\n",
    "On the Configure tab, configure your agent and provide knowledge sources for it to use to answer questions.\n",
    "\n",
    "- **Name**: tech_support_knowledge_assistant\n",
    "- **Description**: Tech support agent to handle technical support queries. It can answer questions about device problems, technical issues, and company policies.\n",
    "\n",
    "<img src=https://raw.githubusercontent.com/bcheng004/agent-bricks-oct-2025-hackathon/main/imgs/knowledge-assistant-01.png width=\"60%\">"
   ]
  },
  {
   "cell_type": "markdown",
   "metadata": {
    "application/vnd.databricks.v1+cell": {
     "cellMetadata": {},
     "inputWidgets": {},
     "nuid": "488d5742-b9ec-49eb-9295-4bf12fa845b8",
     "showTitle": false,
     "tableResultSettingsMap": {},
     "title": ""
    }
   },
   "source": [
    "### Step 2 - Add knowledge sources\n",
    "\n",
    "We will add two main knowledge sources. When adding each knowledge source, you must specify the path to the underlying files stored in your Unity Catalog volume.\n",
    "- **Knowledge Base**: This contains support articles from our knowledge base. It has FAQs, debugging tips, and more. It also contains company policies around things like data overages and early termination fees.\n",
    "- **Support Tickets**: This contains support tickets from 2024 and 2025 and the resolution to issues. Use this to find error codes and how to fix technical issues\n",
    "\n",
    "<img src=https://raw.githubusercontent.com/bcheng004/agent-bricks-oct-2025-hackathon/main/imgs/knowledge-assistant-02.png width=\"70%\">\n",
    "\n",
    "Once we have finished configuring your agent and adding the knowledge sources, the creation process typically takes about 15 minutes. \n",
    "\n",
    "<img src=https://raw.githubusercontent.com/bcheng004/agent-bricks-oct-2025-hackathon/main/imgs/knowledge-assistant-03.png width=\"70%\">\n",
    "\n",
    "After your agent is ready, you will see a chat interface on the right side, which you can use to start interacting with the agent.\n",
    "\n",
    "<img src=https://raw.githubusercontent.com/bcheng004/agent-bricks-oct-2025-hackathon/main/imgs/knowledge-assistant-04.png width=\"70%\">"
   ]
  },
  {
   "cell_type": "markdown",
   "metadata": {
    "application/vnd.databricks.v1+cell": {
     "cellMetadata": {},
     "inputWidgets": {},
     "nuid": "1e6c291a-51f2-4cf6-9f8b-5775fd0c83c4",
     "showTitle": false,
     "tableResultSettingsMap": {},
     "title": ""
    }
   },
   "source": [
    "### Step 3 - Example Questions You Can Ask Your Agent\n",
    "\n",
    "- What information is needed to add a line to my account?\n",
    "- How long does it take to activate a new line?\n",
    "- How can I prevent incorrect roaming charges from happening again?\n",
    "\n",
    "<img src=https://raw.githubusercontent.com/bcheng004/agent-bricks-oct-2025-hackathon/main/imgs/knowledge-assistant-05.png width=\"70%\">\n",
    "\n",
    "Alternatively, you can simply click on it to open and interact with it in the AI Playground. This allows you to immediately begin asking questions and testing the agent's capabilities based on the provided knowledge sources.\n",
    "\n",
    "<img src=https://raw.githubusercontent.com/bcheng004/agent-bricks-oct-2025-hackathon/main/imgs/knowledge-assistant-06.png width=\"100%\">"
   ]
  },
  {
   "cell_type": "markdown",
   "metadata": {
    "application/vnd.databricks.v1+cell": {
     "cellMetadata": {},
     "inputWidgets": {},
     "nuid": "70113993-ee30-40e8-8f66-ae2ca8568722",
     "showTitle": false,
     "tableResultSettingsMap": {},
     "title": ""
    }
   },
   "source": [
    "### Step 4 - Improve Quality\n",
    "\n",
    "To ensure your Knowledge Assistant delivers accurate and relevant answers, you can continuously improve its performance by leveraging labeled data. With MLflow 3's integrated labeling and feedback features, you can submit questions to domain experts for review, creating a high-quality labeled dataset that guides further tuning and evaluation of your agent. By using expert-reviewed feedback, your assistant becomes more reliable, delivering better results for a wide range of customer inquiries.\n",
    "\n",
    "In your knowledge assistant configuration screen, there is an “Improve Quality” button at the center of the top toolbar.\n",
    "\n",
    "<img src=https://raw.githubusercontent.com/bcheng004/agent-bricks-oct-2025-hackathon/main/imgs/knowledge-assistant-07.png width=\"70%\">\n",
    "\n",
    "Next, click the “Add” button to add a new question that you would like to label\n",
    "\n",
    "<img src=https://raw.githubusercontent.com/bcheng004/agent-bricks-oct-2025-hackathon/main/imgs/knowledge-assistant-08.png width=\"90%\">\n",
    "\n",
    "After adding the question, you can begin the labeling session, where you may define guidelines or expectations and provide feedback as needed:\n",
    "\n",
    "<img src=https://raw.githubusercontent.com/bcheng004/agent-bricks-oct-2025-hackathon/main/imgs/knowledge-assistant-09.png width=\"40%\">\n",
    "<br/>\n",
    "<img src=https://raw.githubusercontent.com/bcheng004/agent-bricks-oct-2025-hackathon/main/imgs/knowledge-assistant-10.png width=\"40%\">\n",
    "<br/>\n",
    "<img src=https://raw.githubusercontent.com/bcheng004/agent-bricks-oct-2025-hackathon/main/imgs/knowledge-assistant-11.png width=\"100%\">"
   ]
  }
 ],
 "metadata": {
  "application/vnd.databricks.v1+notebook": {
   "computePreferences": null,
   "dashboards": [],
   "environmentMetadata": {
    "base_environment": "",
    "environment_version": "3"
   },
   "inputWidgetPreferences": null,
   "language": "python",
   "notebookMetadata": {
    "pythonIndentUnit": 4
   },
   "notebookName": "00-Agent-Bricks-Knowledge-Assistant",
   "widgets": {}
  },
  "language_info": {
   "name": "python"
  }
 },
 "nbformat": 4,
 "nbformat_minor": 0
}
