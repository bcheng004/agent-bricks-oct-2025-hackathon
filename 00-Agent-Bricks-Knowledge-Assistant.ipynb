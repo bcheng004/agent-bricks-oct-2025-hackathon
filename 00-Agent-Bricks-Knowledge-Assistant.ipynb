{
 "cells": [
  {
   "cell_type": "markdown",
   "metadata": {
    "application/vnd.databricks.v1+cell": {
     "cellMetadata": {},
     "inputWidgets": {},
     "nuid": "1f9086ad-c11f-4939-93d9-383bff9cfd27",
     "showTitle": false,
     "tableResultSettingsMap": {},
     "title": ""
    }
   },
   "source": [
    "### Use Agent Bricks: Knowledge Assistant to create a high-quality chatbot over your documents\n",
    "\n",
    "Use Agent Bricks: Knowledge Assistant to create a chatbot with which you can ask questions on your documents and receive high-quality responses with citations. Knowledge Assistant uses advanced AI and follows a retrieval-augmented generation (RAG) approach to deliver accurate, reliable answers based on the domain-specialized knowledge you provide it.\n",
    "\n",
    "Agent Bricks: Knowledge Assistant is ideal for supporting the following use cases:\n",
    "\n",
    "- Answer user questions based on product documentation.\n",
    "- Answer employee questions related to HR policies.\n",
    "- Answer customer inquiries based on support knowledge bases.\n",
    "\n",
    "Key benefits:\n",
    "\n",
    "- Access unstructured data in Volumes or Vector Search Index: users can query wide range of file types: PDFs, word files, slides, etc\n",
    "- Built-in metrics and eval: measure against real-life questions and optimize to improve\n",
    "- Production grade scalability: scale out to production use cases and spend less type with GenAI infrastructure"
   ]
  },
  {
   "cell_type": "markdown",
   "metadata": {
    "application/vnd.databricks.v1+cell": {
     "cellMetadata": {},
     "inputWidgets": {},
     "nuid": "96a7e450-4419-4a29-9490-df087de1a017",
     "showTitle": false,
     "tableResultSettingsMap": {},
     "title": ""
    }
   },
   "source": [
    "### Overview\n",
    "\n",
    "For this demo, we’re using a telecom dataset comprising two main components: a knowledge base and a set of support tickets.\n",
    "\n",
    "- The knowledge base includes FAQs, troubleshooting guides, and company policies addressing various topics.\n",
    "- The support tickets cover cases from 2024 and 2025, each paired with its corresponding resolution. \n",
    "\n",
    "By utilizing this dataset, we aim to create a customer support knowledge assistant designed to deliver accurate and insightful assistance across diverse customer inquiries and interactions."
   ]
  },
  {
   "cell_type": "markdown",
   "metadata": {
    "application/vnd.databricks.v1+cell": {
     "cellMetadata": {},
     "inputWidgets": {},
     "nuid": "d26a14be-62ee-4c66-b9bb-9200aa2afc93",
     "showTitle": false,
     "tableResultSettingsMap": {},
     "title": ""
    }
   },
   "source": [
    "### Create a knowledge assistant agent\n",
    "\n",
    "<img src=https://raw.githubusercontent.com/bcheng004/agent-bricks-oct-2025-hackathon/main/imgs/knowledge-assistant-00.png width=\"100%\"/>"
   ]
  }
 ],
 "metadata": {
  "application/vnd.databricks.v1+notebook": {
   "computePreferences": null,
   "dashboards": [],
   "environmentMetadata": {
    "base_environment": "",
    "environment_version": "3"
   },
   "inputWidgetPreferences": null,
   "language": "python",
   "notebookMetadata": {
    "pythonIndentUnit": 4
   },
   "notebookName": "00-Agent-Bricks-Knowledge-Assistant",
   "widgets": {}
  },
  "language_info": {
   "name": "python"
  }
 },
 "nbformat": 4,
 "nbformat_minor": 0
}
